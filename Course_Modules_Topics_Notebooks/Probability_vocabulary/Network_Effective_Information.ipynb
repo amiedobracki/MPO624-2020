{
 "cells": [
  {
   "cell_type": "markdown",
   "metadata": {},
   "source": [
    "# Information entropy function\n",
    "## and a network example \n",
    "## [Klein and Hoel 2020](http://downloads.hindawi.com/journals/complexity/2020/8932526.pdf)"
   ]
  },
  {
   "cell_type": "markdown",
   "metadata": {},
   "source": [
    "### \"Note that if a network is maximally dense (i.e., a fully connected network, with self-loops), EI = 0.0.\"  (page 2-3 spanning sentence) \n",
    "#### Let's build one and check it"
   ]
  },
  {
   "cell_type": "code",
   "execution_count": 55,
   "metadata": {},
   "outputs": [
    {
     "name": "stdout",
     "output_type": "stream",
     "text": [
      "Using matplotlib backend: MacOSX\n",
      "Populating the interactive namespace from numpy and matplotlib\n"
     ]
    }
   ],
   "source": [
    "%pylab"
   ]
  },
  {
   "cell_type": "code",
   "execution_count": 56,
   "metadata": {},
   "outputs": [],
   "source": [
    "def entropy(PDF):\n",
    "    PDF /= sum(PDF)\n",
    "    print(PDF)\n",
    "    ent=0.0\n",
    "    for i in range(size(PDF)):\n",
    "        ent -= PDF[i]*log2(PDF[i])\n",
    "    print('entropy is ',ent)\n",
    "    return ent"
   ]
  },
  {
   "cell_type": "code",
   "execution_count": 57,
   "metadata": {},
   "outputs": [],
   "source": [
    "# Out-weights from each of A,B,C. \n",
    "# The bigger number is the self-loop, the smaller goes A->C, C->B, B->A \n",
    "# All out-weights add up to 1 as in \n",
    "Aout = [.80,.20]\n",
    "Bout = [.90,.10]\n",
    "Cout = [.70,.30]"
   ]
  },
  {
   "cell_type": "code",
   "execution_count": 58,
   "metadata": {},
   "outputs": [],
   "source": [
    "# In-weight distribution\n",
    "insums = [.90,.120,.90]"
   ]
  },
  {
   "cell_type": "code",
   "execution_count": 59,
   "metadata": {},
   "outputs": [
    {
     "name": "stdout",
     "output_type": "stream",
     "text": [
      "[0.8 0.2]\n",
      "entropy is  0.7219280948873623\n",
      "[0.9 0.1]\n",
      "entropy is  0.4689955935892812\n",
      "[0.7 0.3]\n",
      "entropy is  0.8812908992306927\n"
     ]
    }
   ],
   "source": [
    "HA = entropy(Aout)\n",
    "HB = entropy(Bout)\n",
    "HC = entropy(Cout)"
   ]
  },
  {
   "cell_type": "code",
   "execution_count": 60,
   "metadata": {},
   "outputs": [
    {
     "data": {
      "text/plain": [
       "0.6907381959024453"
      ]
     },
     "execution_count": 60,
     "metadata": {},
     "output_type": "execute_result"
    }
   ],
   "source": [
    "mean([HA,HB,HC])"
   ]
  },
  {
   "cell_type": "code",
   "execution_count": 61,
   "metadata": {},
   "outputs": [
    {
     "name": "stdout",
     "output_type": "stream",
     "text": [
      "[0.46875 0.0625  0.46875]\n",
      "entropy is  1.2747900666170138\n"
     ]
    }
   ],
   "source": [
    "Hnet = entropy(insums)"
   ]
  },
  {
   "cell_type": "code",
   "execution_count": 62,
   "metadata": {},
   "outputs": [
    {
     "name": "stdout",
     "output_type": "stream",
     "text": [
      "0.5840518707145684\n"
     ]
    }
   ],
   "source": [
    "print( Hnet-mean([HA,HB,HC]) )"
   ]
  },
  {
   "cell_type": "code",
   "execution_count": null,
   "metadata": {},
   "outputs": [],
   "source": []
  }
 ],
 "metadata": {
  "kernelspec": {
   "display_name": "Python 3",
   "language": "python",
   "name": "python3"
  },
  "language_info": {
   "codemirror_mode": {
    "name": "ipython",
    "version": 3
   },
   "file_extension": ".py",
   "mimetype": "text/x-python",
   "name": "python",
   "nbconvert_exporter": "python",
   "pygments_lexer": "ipython3",
   "version": "3.7.1"
  }
 },
 "nbformat": 4,
 "nbformat_minor": 2
}
