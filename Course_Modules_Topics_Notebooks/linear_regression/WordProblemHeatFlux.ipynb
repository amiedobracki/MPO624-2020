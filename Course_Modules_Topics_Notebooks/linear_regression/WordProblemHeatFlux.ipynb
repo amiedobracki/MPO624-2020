{
 "cells": [
  {
   "cell_type": "markdown",
   "metadata": {},
   "source": [
    "### Covariance as a flux: a word problem\n",
    "\n",
    "When you put a pot of water on a heated stove, the water convects. The temperature at the top of the pan increases because a vertical mass flux $\\rho w$ carries specific enthalpy $C_p T$ upward, comprising an energy flux $\\rho C_p w T$ which we can summarize by its *kinematic temperature flux* wT. \n",
    "\n",
    "To study this flux, you set up a vertical anemometer to measure w, and a thermometer to measure T, in the mid-depth of the pan. The devices collect the following statistics, where the overbar is a time average that you may assume is the same as a spatial average over the area of the pan: \n",
    "\n",
    "$\\overline{w'T'}$ = 1 K m/s\n",
    "\n",
    "$\\sigma_T$ = 3 K\n",
    "\n",
    "$\\sigma_w$ = 2 m/s\n",
    "\n",
    "**a. Show that** since $\\overline{w}$ = 0 (explain why), $\\overline{wT} = \\overline{w'T'}$. \n",
    "\n",
    "\n",
    "\n",
    "**b.** Somebody gets your data and uses it to test their proposition that T \"explains\" w because warm water rises: \n",
    "\n",
    "        T' = a w' + e1\n",
    "\n",
    "   Somebody else gets your data and uses it to test the proposition that w \"explains\" T because rising water carries heat: \n",
    "\n",
    "        w' = b T' + e2\n",
    "\n",
    "   **What are the values of a and b, assuming the usual _principle of least squares_ (traditional linear regression) is used to define their values?**\n",
    "   \n",
    "   **Is a = 1/b? Why or why not? Carry units on all quantities.**\n",
    "\n",
    "\n",
    "**c. What fraction** of $\\overline{T'^2}$ does the a term explain? Show your work. \n",
    "    \n",
    "**d. What fraction** of $\\overline{w'^2}$ does the b term explain?\n",
    "    \n",
    "**e.** Suppose your thermometer breaks, and you buy a cheaper one, with large random measurement errors. That increases $\\sigma_T$ to 5 K. **Answer the table below:** \n",
    "\n",
    "|Quantity: increase, decrease, same?|Quantity: increase, decrease, same?|\n",
    "|:--- |:---|\n",
    "|var(T)|var(w)|\n",
    "|cov(w,T)|cor(w,T)|\n",
    "|a|b|\n",
    "|e1|e2|\n",
    "|explained variance of T|explained variance of w|\n",
    "\n"
   ]
  }
 ],
 "metadata": {
  "kernelspec": {
   "display_name": "Python 3",
   "language": "python",
   "name": "python3"
  },
  "language_info": {
   "codemirror_mode": {
    "name": "ipython",
    "version": 3
   },
   "file_extension": ".py",
   "mimetype": "text/x-python",
   "name": "python",
   "nbconvert_exporter": "python",
   "pygments_lexer": "ipython3",
   "version": "3.7.6"
  }
 },
 "nbformat": 4,
 "nbformat_minor": 4
}
