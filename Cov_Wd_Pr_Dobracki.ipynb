{
  "nbformat": 4,
  "nbformat_minor": 0,
  "metadata": {
    "colab": {
      "name": "Cov.Wd.Pr.Dobracki",
      "provenance": [],
      "collapsed_sections": [],
      "authorship_tag": "ABX9TyMsPXmUwYn6zPC42BFaf3UE",
      "include_colab_link": true
    },
    "kernelspec": {
      "name": "python3",
      "display_name": "Python 3"
    }
  },
  "cells": [
    {
      "cell_type": "markdown",
      "metadata": {
        "id": "view-in-github",
        "colab_type": "text"
      },
      "source": [
        "<a href=\"https://colab.research.google.com/github/amiedobracki/MPO624-2020/blob/master/Cov_Wd_Pr_Dobracki.ipynb\" target=\"_parent\"><img src=\"https://colab.research.google.com/assets/colab-badge.svg\" alt=\"Open In Colab\"/></a>"
      ]
    },
    {
      "cell_type": "code",
      "metadata": {
        "id": "91fGhg_IASfN",
        "colab_type": "code",
        "colab": {}
      },
      "source": [
        ""
      ],
      "execution_count": 0,
      "outputs": []
    },
    {
      "cell_type": "markdown",
      "metadata": {
        "id": "aU_TsUMpAXZ8",
        "colab_type": "text"
      },
      "source": [
        "### Covariance Word Problem \n",
        "#### Amie Dobracki MPO 624 \n",
        "#### 02/06/2020\n",
        "\n",
        "<hr style=\"height:4px;\">"
      ]
    },
    {
      "cell_type": "code",
      "metadata": {
        "id": "yprfNYW0AVSF",
        "colab_type": "code",
        "colab": {}
      },
      "source": [
        ""
      ],
      "execution_count": 0,
      "outputs": []
    },
    {
      "cell_type": "markdown",
      "metadata": {
        "id": "bs4hSzo2AqDH",
        "colab_type": "text"
      },
      "source": [
        "##A) \n",
        "$\\overline{WT}$ = $\\overline{W'T'}$ when $\\overline{w}$=0 \n",
        "* Expand ($\\overline{W}$ + W' ) ($\\overline{T}$+T') \n",
        "* $\\overline{WT}$ = $\\overline{\\overline{W}}$$\\overline{\\overline{T}}$ + ($\\overline{\\overline{W}}$ + $\\overline{T'}$) + ($\\overline{\\overline{T}}$ + $\\overline{W'}$) + $\\overline{W'T'}$\n",
        "*  ($\\overline{\\overline{W}}$ + $\\overline{T'}$) =0 and ($\\overline{\\overline{T}}$ $\\overline{W'}$) = 0; due to cant take time mean of itself -- (actually just reviewed this from Ben's circ class) \n",
        "* left with $\\overline{\\overline{W}}$$\\overline{\\overline{T}}$ and $\\overline{W'T'}$ but $\\overline{w}$=0 so only remaining term is \n",
        "$\\overline{W'T'}$\n",
        "\n",
        "##B) \n",
        "#####T' = aW' + e1 -- solve for a \n",
        "* a = cov(xy)/σx<sup>2\n",
        "* T = dependent and W = independent so we want to use σ<sub>W = 2\n",
        "* a = 1/4 (k/(m/s))\n",
        "\n",
        "#####W' = bT' + e2 -- solve for b \n",
        "* b = cov(xy)/σx<sup>2\n",
        "* W = dependent and T = independent so we want to use σ<sub>T = 3\n",
        "* b = 1/9 ((m/s)/k)\n",
        "\n",
        "No a does not equal 1/b because 1/4 (k/(m/s)) $\\neq$ 1/(1/9) ((m/s)/k))\n",
        "\n",
        "##C & D ) \n",
        "Variance = $\\overline{T'}$ <sup>2   \n",
        "* if σT = $\\sqrt{var(T)}$ then Var(T) = 9 and since a= 1/4 it is 1/36 or 2.8% of the variance \n",
        "* if σW = $\\sqrt{var(W)}$ then Var(W) = 4 and since b= 1/9 it is also 2.8% of the variance \n",
        "\n",
        "##E) \n",
        "What happens when σT=5? \n",
        "\n",
        "* Var(T) is now 25 instead of 9 (increase) \n",
        "* Cov(W,T) stays the same \n",
        "* a=same because it is dependent on σW, not σT \n",
        "* e1 increases because with a larger std it fluffs up T' and e must compensate \n",
        "* Explained variance of T would decrease to 1% since cor(W,T) is now 1/10 instead of 1/6 which gives us 1/100 for R<sup>2\n",
        "* Var(W) would not change \n",
        "* Cor(W,T) would decrease since σT in denominator \n",
        "* B would decrease from 1/9 to 1/25 \n",
        "* e2 would also increase? I'm not 100% sure about this but if you rearrange the equation e2=W'-bT' and if b is now 1/25 that is a smaller number so subtracting a smaller RHS would lead to a bigger e? \n",
        "* explained variance of w would be 1% because the Var(w) =4 but now b=1/25 \n",
        "\n",
        "\n",
        "\n",
        "\n"
      ]
    },
    {
      "cell_type": "code",
      "metadata": {
        "id": "hDepK7NaDc0x",
        "colab_type": "code",
        "colab": {
          "base_uri": "https://localhost:8080/",
          "height": 34
        },
        "outputId": "0feef0f6-085d-4c99-9d64-3423f6c80f24"
      },
      "source": [
        "greek_letterz=[chr(code) for code in range(945,970)]\n",
        "## cool tidbit to know  \n",
        "print(greek_letterz)"
      ],
      "execution_count": 1,
      "outputs": [
        {
          "output_type": "stream",
          "text": [
            "['α', 'β', 'γ', 'δ', 'ε', 'ζ', 'η', 'θ', 'ι', 'κ', 'λ', 'μ', 'ν', 'ξ', 'ο', 'π', 'ρ', 'ς', 'σ', 'τ', 'υ', 'φ', 'χ', 'ψ', 'ω']\n"
          ],
          "name": "stdout"
        }
      ]
    },
    {
      "cell_type": "code",
      "metadata": {
        "id": "HwSR934d0nSW",
        "colab_type": "code",
        "colab": {}
      },
      "source": [
        ""
      ],
      "execution_count": 0,
      "outputs": []
    }
  ]
}